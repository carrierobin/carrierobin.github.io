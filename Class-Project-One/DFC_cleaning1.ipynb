{
 "cells": [
  {
   "cell_type": "code",
   "execution_count": 1,
   "id": "a3103239-333e-44a7-bc56-be4af814f46d",
   "metadata": {},
   "outputs": [
    {
     "name": "stdout",
     "output_type": "stream",
     "text": [
      "<class 'pandas.core.frame.DataFrame'>\n",
      "RangeIndex: 7556 entries, 0 to 7555\n",
      "Columns: 142 entries, CMS Certification Number (CCN) to Percentage of pediatric HD patients with nPCR\n",
      "dtypes: float64(76), int64(27), object(39)\n",
      "memory usage: 8.2+ MB\n"
     ]
    },
    {
     "data": {
      "text/plain": [
       "CMS Certification Number (CCN)                                   int64\n",
       "Network                                                          int64\n",
       "Facility Name                                                   object\n",
       "Five Star Date                                                  object\n",
       "Five Star                                                      float64\n",
       "                                                                ...   \n",
       "Percentage of Adult patients with long term catheter in use    float64\n",
       "nPCR Data Availability Code                                      int64\n",
       "Number of patients in nPCR summary                             float64\n",
       "Number of patient-months in nPCR summary                       float64\n",
       "Percentage of pediatric HD patients with nPCR                  float64\n",
       "Length: 142, dtype: object"
      ]
     },
     "execution_count": 1,
     "metadata": {},
     "output_type": "execute_result"
    }
   ],
   "source": [
    "#Getting basic info about the file\n",
    "\n",
    "import pandas as pd\n",
    "import requests\n",
    "\n",
    "df = pd.read_csv(\"dfc_facility_raw.csv\")\n",
    "df.shape\n",
    "df.info()\n",
    "df.dtypes\n"
   ]
  },
  {
   "cell_type": "code",
   "execution_count": 2,
   "id": "06a85cdb-bbf8-4ca0-8a3a-7849210783fd",
   "metadata": {},
   "outputs": [],
   "source": [
    "#how are missing data in star ratings listed?\n",
    "df[\"Five Star\"].head(10)\n",
    "\n",
    "#let's do some stats on the star ratings\n",
    "df.value_counts(['Five Star'])\n",
    "df.value_counts(['Five Star'], normalize=True)\n",
    "\n",
    "# Count number of clinics for each star rating\n",
    "rating_counts = df['Five Star'].value_counts().sort_index().reset_index()\n",
    "rating_counts.columns = ['Five Star Rating', 'Number of Clinics']\n",
    "\n",
    "# Optional: add percentage column (for labeling in Datawrapper or reference)\n",
    "rating_counts['Percentage'] = (rating_counts['Number of Clinics'] / rating_counts['Number of Clinics'].sum()) * 100\n",
    "\n",
    "# Export to CSV\n",
    "rating_counts.to_csv(\"star_rating_distribution.csv\", index=False)"
   ]
  },
  {
   "cell_type": "markdown",
   "id": "93982a26-863d-41b3-b3fc-c941e75df8e9",
   "metadata": {},
   "source": [
    "## Time to rename a bunch of shit"
   ]
  },
  {
   "cell_type": "code",
   "execution_count": 3,
   "id": "4932aece-a891-4dae-86b3-7abf7f54398b",
   "metadata": {},
   "outputs": [],
   "source": [
    "df.rename(columns={\"# of Dialysis Stations\": \"station_num\"}, inplace=True)\n"
   ]
  },
  {
   "cell_type": "code",
   "execution_count": 4,
   "id": "167635d9-0a38-457a-8b0b-025b925871ff",
   "metadata": {
    "scrolled": true
   },
   "outputs": [
    {
     "data": {
      "text/plain": [
       "0     7\n",
       "1    28\n",
       "2    24\n",
       "3    23\n",
       "4    19\n",
       "5    27\n",
       "6    24\n",
       "7    16\n",
       "8    26\n",
       "9    19\n",
       "Name: station_num, dtype: int64"
      ]
     },
     "execution_count": 4,
     "metadata": {},
     "output_type": "execute_result"
    }
   ],
   "source": [
    "df['station_num'].head(10)"
   ]
  },
  {
   "cell_type": "code",
   "execution_count": 5,
   "id": "8e351a5f-cf33-421e-bcab-f59aef9fbd61",
   "metadata": {},
   "outputs": [],
   "source": [
    "#Make all column headers lower case because I don't do these fancy capital letters\n",
    "df.columns = df.columns.str.lower()"
   ]
  },
  {
   "cell_type": "code",
   "execution_count": 6,
   "id": "5f9143dc-51f5-441a-a8da-e7bbf382b3af",
   "metadata": {},
   "outputs": [
    {
     "data": {
      "text/plain": [
       "0              childrens hospital dialysis\n",
       "1                         fmc capitol city\n",
       "2                  davita gadsden dialysis\n",
       "3    davita tuscaloosa university dialysis\n",
       "4                    davita pdi montgomery\n",
       "5                   davita dothan dialysis\n",
       "6                               fmc mobile\n",
       "7          davita birmingham east dialysis\n",
       "8                                fmc selma\n",
       "9                             bma langdale\n",
       "Name: facility name, dtype: object"
      ]
     },
     "execution_count": 6,
     "metadata": {},
     "output_type": "execute_result"
    }
   ],
   "source": [
    "#Converting facility names to all lowercase\n",
    "df[\"facility name\"] = df[\"facility name\"].str.lower()\n",
    "df[\"facility name\"] = df[\"facility name\"].str.replace(r\"\\s*-\\s*\", \" \", regex=True)\n",
    "df[\"facility name\"].head(10)"
   ]
  },
  {
   "cell_type": "code",
   "execution_count": null,
   "id": "3a482495-7977-4866-b2ee-48224bfb24ee",
   "metadata": {},
   "outputs": [],
   "source": []
  },
  {
   "cell_type": "markdown",
   "id": "bc058ce3-353f-44ed-b019-982f66a550cc",
   "metadata": {},
   "source": [
    "# Getting some descriptive statistics"
   ]
  },
  {
   "cell_type": "code",
   "execution_count": 7,
   "id": "a8da314e-5481-4d2a-a4f9-6b006d29f78d",
   "metadata": {},
   "outputs": [
    {
     "data": {
      "text/plain": [
       "count    7556.000000\n",
       "mean       17.630360\n",
       "std         8.666408\n",
       "min         0.000000\n",
       "25%        12.000000\n",
       "50%        17.000000\n",
       "75%        23.000000\n",
       "max        80.000000\n",
       "Name: station_num, dtype: float64"
      ]
     },
     "execution_count": 7,
     "metadata": {},
     "output_type": "execute_result"
    }
   ],
   "source": [
    "df[\"station_num\"].describe()"
   ]
  },
  {
   "cell_type": "code",
   "execution_count": 8,
   "id": "e1724f8d-a90b-4c31-a556-9a522e4e2031",
   "metadata": {},
   "outputs": [
    {
     "name": "stdout",
     "output_type": "stream",
     "text": [
      "[(-0.001, 12.0], (23.0, 80.0], (17.0, 23.0], (12.0, 17.0]]\n",
      "Categories (4, interval[float64, right]): [(-0.001, 12.0] < (12.0, 17.0] < (17.0, 23.0] < (23.0, 80.0]]\n"
     ]
    }
   ],
   "source": [
    "df[\"station_quartile\"] = pd.qcut(df[\"station_num\"], q=4, labels=[\"Q1\", \"Q2\", \"Q3\", \"Q4\"])\n",
    "quartiles = pd.qcut(df[\"station_num\"], q=4)\n",
    "print(quartiles.unique())"
   ]
  },
  {
   "cell_type": "code",
   "execution_count": 9,
   "id": "d372ab97-c587-46da-b6ba-38a763ad1823",
   "metadata": {},
   "outputs": [
    {
     "name": "stderr",
     "output_type": "stream",
     "text": [
      "C:\\Users\\Carrie Arnold\\AppData\\Local\\Temp\\ipykernel_16504\\2869341715.py:1: FutureWarning: The default of observed=False is deprecated and will be changed to True in a future version of pandas. Pass observed=False to retain current behavior or observed=True to adopt the future default and silence this warning.\n",
      "  df.groupby('station_quartile')['five star'].mean()\n",
      "C:\\Users\\Carrie Arnold\\AppData\\Local\\Temp\\ipykernel_16504\\2869341715.py:7: FutureWarning: The default of observed=False is deprecated and will be changed to True in a future version of pandas. Pass observed=False to retain current behavior or observed=True to adopt the future default and silence this warning.\n",
      "  quartile_summary = df.groupby(\"station_quartile\")[\"five star\"].mean().reset_index()\n"
     ]
    }
   ],
   "source": [
    "df.groupby('station_quartile')['five star'].mean()\n",
    "\n",
    "# Create quartile labels\n",
    "df[\"station_quartile\"] = pd.qcut(df[\"station_num\"], q=4, labels=[\"Q1\", \"Q2\", \"Q3\", \"Q4\"])\n",
    "\n",
    "# Group by quartile and get average five-star rating\n",
    "quartile_summary = df.groupby(\"station_quartile\")[\"five star\"].mean().reset_index()\n",
    "\n",
    "# Rename columns for clarity in Datawrapper\n",
    "quartile_summary.columns = [\"Clinic Size Quartile\", \"Average Five-Star Rating\"]\n",
    "\n",
    "# Save to CSV for Datawrapper\n",
    "quartile_summary.to_csv(\"clinic_quartile_ratings.csv\", index=False)"
   ]
  },
  {
   "cell_type": "code",
   "execution_count": 10,
   "id": "dbae8753-c676-4020-b5b5-528dd073e3d9",
   "metadata": {},
   "outputs": [
    {
     "name": "stderr",
     "output_type": "stream",
     "text": [
      "C:\\Users\\Carrie Arnold\\AppData\\Local\\Temp\\ipykernel_46368\\4105986930.py:4: FutureWarning: The default of observed=False is deprecated and will be changed to True in a future version of pandas. Pass observed=False to retain current behavior or observed=True to adopt the future default and silence this warning.\n",
      "  df.groupby('station_quartile')['five star'].mean().plot(x='name', y='length')\n"
     ]
    },
    {
     "data": {
      "text/plain": [
       "Text(0, 0.5, 'Average Star Rating')"
      ]
     },
     "execution_count": 10,
     "metadata": {},
     "output_type": "execute_result"
    },
    {
     "data": {
      "image/png": "[encoded data removed]",
      "text/plain": [
       "<Figure size 640x480 with 1 Axes>"
      ]
     },
     "metadata": {},
     "output_type": "display_data"
    }
   ],
   "source": [
    "#Let's graph this bad boy\n",
    "import matplotlib.pyplot as plt\n",
    "\n",
    "df.groupby('station_quartile')['five star'].mean().plot(x='name', y='length')\n",
    "plt.xlabel(\"Station Number Quartile\")\n",
    "plt.ylabel(\"Average Star Rating\")"
   ]
  },
  {
   "cell_type": "code",
   "execution_count": 11,
   "id": "231278a6-c039-43ee-a665-3579f14ac0cd",
   "metadata": {},
   "outputs": [
    {
     "data": {
      "text/plain": [
       "run_dt               datetime64[ns]\n",
       "age                           int64\n",
       "race_type_desc               object\n",
       "gndr_txt                     object\n",
       "ethncty_type_desc            object\n",
       "dschrg_monyyyy               object\n",
       "ntwrk_ivd                     int64\n",
       "org_name_ivd                 object\n",
       "days_to_next                float64\n",
       "next_admit_ccn               object\n",
       "status                       object\n",
       "death_monyyyy                object\n",
       "row_num                       int64\n",
       "dtype: object"
      ]
     },
     "execution_count": 11,
     "metadata": {},
     "output_type": "execute_result"
    }
   ],
   "source": [
    "import pandas as pd\n",
    "import requests\n",
    "\n",
    "foia = pd.read_excel(\"foia_ivd.xlsx\")\n",
    "foia.shape\n",
    "foia.dtypes"
   ]
  },
  {
   "cell_type": "code",
   "execution_count": 12,
   "id": "9e0f0770-bb0c-4c5c-80d4-cc4f94b0cc71",
   "metadata": {},
   "outputs": [
    {
     "data": {
      "text/plain": [
       "0    liberty dialysis college station\n",
       "1           shoreline dialysis center\n",
       "2                      fmc lafollette\n",
       "3                    fmc - louisville\n",
       "4       davita willow dialysis center\n",
       "5                laplace dialysis ctr\n",
       "6                  sugarland dialysis\n",
       "7        davita westport renal center\n",
       "8    zz-closed-fmc fairmount dialysis\n",
       "9    zz-closed-fmc fairmount dialysis\n",
       "Name: org_name_ivd, dtype: object"
      ]
     },
     "execution_count": 12,
     "metadata": {},
     "output_type": "execute_result"
    }
   ],
   "source": [
    "# convert all cells to lowercase because I hate remembering what's what\n",
    "foia[\"org_name_ivd\"] = foia[\"org_name_ivd\"].str.lower()\n",
    "foia[\"org_name_ivd\"].head(10)"
   ]
  },
  {
   "cell_type": "code",
   "execution_count": 13,
   "id": "31d0e7ff-b1f0-4f9e-bcf0-5963d1bd47e0",
   "metadata": {},
   "outputs": [
    {
     "data": {
      "text/plain": [
       "0    liberty dialysis college station\n",
       "1           shoreline dialysis center\n",
       "2                      fmc lafollette\n",
       "3                      fmc louisville\n",
       "4       davita willow dialysis center\n",
       "5                laplace dialysis ctr\n",
       "6                  sugarland dialysis\n",
       "7        davita westport renal center\n",
       "8              fmc fairmount dialysis\n",
       "9              fmc fairmount dialysis\n",
       "Name: org_name_ivd, dtype: object"
      ]
     },
     "execution_count": 13,
     "metadata": {},
     "output_type": "execute_result"
    }
   ],
   "source": [
    "#strip \"zz-closed-\" from org_name_ivd column\n",
    "foia[\"org_name_ivd\"] = foia[\"org_name_ivd\"].str.replace(r\"^zz-closed-\", \"\", regex=True)\n",
    "#strip extra spaces and dashes from this column\n",
    "foia[\"org_name_ivd\"] = foia[\"org_name_ivd\"].str.replace(r\"\\s*-\\s*\", \" \", regex=True)\n",
    "foia[\"org_name_ivd\"].head(10)"
   ]
  },
  {
   "cell_type": "code",
   "execution_count": 14,
   "id": "657d8bce-3859-41ef-8cda-860070e35c8d",
   "metadata": {},
   "outputs": [],
   "source": [
    "#now the naming style of \"facility name\" will match \"org_name_ivd\""
   ]
  },
  {
   "cell_type": "code",
   "execution_count": 15,
   "id": "c92ab8e3-9d12-412f-8e47-91880ecd7c14",
   "metadata": {},
   "outputs": [
    {
     "data": {
      "text/plain": [
       "0     no\n",
       "1    yes\n",
       "2    yes\n",
       "3     no\n",
       "4     no\n",
       "5     no\n",
       "6    yes\n",
       "7    yes\n",
       "8     no\n",
       "9    yes\n",
       "Name: ivd_facility, dtype: object"
      ]
     },
     "execution_count": 15,
     "metadata": {},
     "output_type": "execute_result"
    }
   ],
   "source": [
    "#create new variable \"ivd_facility\" if \"org_name_ivd\" matches an entry in \"facility name\"\n",
    "df[\"ivd_facility\"] = df[\"facility name\"].isin(foia[\"org_name_ivd\"]).map({True: \"yes\", False: \"no\"})\n",
    "df[\"ivd_facility\"].head(10)"
   ]
  },
  {
   "cell_type": "code",
   "execution_count": 16,
   "id": "0e089147-3b0d-44a0-8edb-6a10d028cad8",
   "metadata": {},
   "outputs": [
    {
     "data": {
      "text/plain": [
       "ivd_facility\n",
       "no     5509\n",
       "yes    2047\n",
       "Name: count, dtype: int64"
      ]
     },
     "execution_count": 16,
     "metadata": {},
     "output_type": "execute_result"
    }
   ],
   "source": [
    "df[\"ivd_facility\"].value_counts()"
   ]
  },
  {
   "cell_type": "code",
   "execution_count": null,
   "id": "a656bd31-c17f-4c24-844d-6351aa35b1d3",
   "metadata": {},
   "outputs": [],
   "source": []
  }
 ],
 "metadata": {
  "kernelspec": {
   "display_name": "Python 3 (ipykernel)",
   "language": "python",
   "name": "python3"
  },
  "language_info": {
   "codemirror_mode": {
    "name": "ipython",
    "version": 3
   },
   "file_extension": ".py",
   "mimetype": "text/x-python",
   "name": "python",
   "nbconvert_exporter": "python",
   "pygments_lexer": "ipython3",
   "version": "3.12.0"
  }
 },
 "nbformat": 4,
 "nbformat_minor": 5
}
